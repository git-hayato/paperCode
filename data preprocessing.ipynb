{
 "cells": [
  {
   "cell_type": "code",
   "execution_count": 18,
   "metadata": {},
   "outputs": [],
   "source": [
    "import os\n",
    "\n",
    "import pywt\n",
    "import numpy as np\n",
    "import scipy.signal.spectral as sss\n",
    "import tensorflow as tf\n",
    "#from PIL import Image\n",
    "# import seaborn as sns\n",
    "import matplotlib.pyplot as plt"
   ]
  },
  {
   "cell_type": "code",
   "execution_count": 19,
   "metadata": {},
   "outputs": [],
   "source": [
    "# 一共获取1000组数据，每组数据尺寸为512，采样的步长为180；\n",
    "def get_batch(filename, window_size=512, batch_size=1000, stride=180):\n",
    "    data = np.loadtxt(filename)\n",
    "    start = 0\n",
    "    cnt = 0\n",
    "    batch_data = []\n",
    "    while start + window_size < data.shape[0] and cnt < batch_size:\n",
    "        batch_data.append(data[start: start + window_size])\n",
    "        start = start + stride + 1\n",
    "        cnt += 1\n",
    "    batch_data = np.array(batch_data)\n",
    "    return batch_data"
   ]
  },
  {
   "cell_type": "code",
   "execution_count": 20,
   "metadata": {},
   "outputs": [],
   "source": [
    "def batch2image(signal_batch, sampling_rate, pooling_size, process_type='wavelet'):\n",
    "    \"\"\"\n",
    "    批数据转换成图片\n",
    "    :signal_batch:\n",
    "    :sampling_rate:\n",
    "    :pooling_size:\n",
    "    :process_type:\n",
    "    :return:\n",
    "    \"\"\"\n",
    "    num, dim = np.shape(signal_batch)\n",
    "    batch_set = []\n",
    "    if process_type == 'wavelet':\n",
    "        for i in range(num):\n",
    "            image, _ = wavelet2image(signal_batch[i, :], sampling_rate)\n",
    "            batch_set.append(image)\n",
    "    elif process_type == 'stft':\n",
    "        for i in range(num):\n",
    "            image, _ = stft2image(signal_batch[i, :], sampling_rate)\n",
    "            batch_set.append(image)\n",
    "    else:\n",
    "        raise KeyError(\"process_type must be wavelet of stft!\")\n",
    "    batch_set = np.array(batch_set)\n",
    "    batch_set = image_downsampling(batch_set, pooling_size, form='avg_pooling')\n",
    "\n",
    "    return batch_set"
   ]
  },
  {
   "cell_type": "code",
   "execution_count": 21,
   "metadata": {},
   "outputs": [],
   "source": [
    "def wavelet2image(signal, sampling_rate, freq_dim_scale=256, wavelet_name='morl'):\n",
    "\n",
    "    \"\"\"\n",
    "    小波图像\n",
    "    :param signal: 1D temporal sequence\n",
    "    :param sampling_rate: sampling rate for the sequence  定义了每秒从连续信号中提取并组成离散信号的采样个数\n",
    "    :param freq_dim_scale: frequency resolution  目的是避免信号混淆保证高频信号不被歪曲成低频信号\n",
    "    :param wavelet_name: wavelet name for CWT, here we have 'morl', 'gaus', 'cmor',...\n",
    "    :return: time-freq image and its reciprocal frequencies  时频图像及其倒数频率\n",
    "    \"\"\"\n",
    "\n",
    "    freq_centre = pywt.central_frequency(wavelet_name)            # 所选小波的中心频率\n",
    "    cparam = 2 * freq_centre * freq_dim_scale\n",
    "    scales = cparam / np.arange(1, freq_dim_scale + 1, 1)         # 获取小波基函数的尺度参数 a 的倒数\n",
    "    [cwt_matrix, frequencies] = pywt.cwt(signal, scales, wavelet_name, 1.0 / sampling_rate)\n",
    "\n",
    "    return abs(cwt_matrix), frequencies"
   ]
  },
  {
   "cell_type": "code",
   "execution_count": 22,
   "metadata": {},
   "outputs": [],
   "source": [
    "def stft2image(signal, sampling_rate, freq_dim_scale=256, window_name=('gaussian', 3.0)):\n",
    "\n",
    "    \"\"\"\n",
    "    :param signal: signal input for stft\n",
    "    :param sampling_rate:\n",
    "    :param window_name: (gaussian,3), hann, hamming, etc.\n",
    "\n",
    "    Notes\n",
    "    -----\n",
    "    Window types:\n",
    "\n",
    "        `boxcar`, `triang`, `blackman`, `hamming`, `hann`, `bartlett`,\n",
    "        `flattop`, `parzen`, `bohman`, `blackmanharris`, `nuttall`,\n",
    "        `barthann`, `kaiser` (needs beta), `gaussian` (needs standard\n",
    "        deviation), `general_gaussian` (needs power, width), `slepian`\n",
    "        (needs width), `dpss` (needs normalized half-bandwidth),\n",
    "        `chebwin` (needs attenuation), `exponential` (needs decay scale),\n",
    "        `tukey` (needs taper fraction)\n",
    "\n",
    "    :return: time-freq image and its frequencies\n",
    "    \"\"\"\n",
    "\n",
    "    f, t, Zxx = sss.stft(signal, fs=sampling_rate, window=window_name, nperseg=freq_dim_scale)\n",
    "\n",
    "    return Zxx, f"
   ]
  },
  {
   "cell_type": "code",
   "execution_count": 1,
   "metadata": {},
   "outputs": [],
   "source": [
    "def image_downsampling(image_set, pooling_size=2, form='max_pooling', axis=None):\n",
    "\n",
    "    \"\"\"\n",
    "    :param image_set: input image with large size\n",
    "    :param pooling_size: down-sampling rate\n",
    "    :param form: 'max_pooling' or 'avg_pooling'\n",
    "    :param axis: if axis is not None, it means that the image will be down-sampled\n",
    "                 just within it row(axis=0) or column(axis=1).\n",
    "    :return: image has been down-sampled\n",
    "    \"\"\"\n",
    "\n",
    "    num, time_dim, freq_dim = np.shape(image_set)[0], np.shape(image_set)[1], np.shape(image_set)[2]\n",
    "    image_set = image_set.reshape(num, time_dim, freq_dim, 1)\n",
    "    im_input = tf.placeholder(dtype=tf.float32, shape=[num, time_dim, freq_dim, 1])\n",
    "    kernel_size = [pooling_size, 2*pooling_size]\n",
    "    if axis == 0:\n",
    "        kernel_size = [pooling_size, 1]\n",
    "    elif axis == 1:\n",
    "        kernel_size = [1, pooling_size]\n",
    "\n",
    "    with tf.device('/gpu:0'):\n",
    "        pooling_max = tf.contrib.slim.max_pool2d(im_input, kernel_size=kernel_size, stride=kernel_size)\n",
    "        pooling_avg = tf.contrib.slim.avg_pool2d(im_input, kernel_size=kernel_size, stride=kernel_size)\n",
    "\n",
    "    with tf.Session() as sess:\n",
    "        down_sampling_im = sess.run(fetches=pooling_max, feed_dict={im_input: image_set})\n",
    "        if form == 'avg_pooling':\n",
    "            down_sampling_im = sess.run(fetches=pooling_avg, feed_dict={im_input: image_set})\n",
    "\n",
    "    return down_sampling_im"
   ]
  },
  {
   "cell_type": "code",
   "execution_count": 56,
   "metadata": {},
   "outputs": [
    {
     "name": "stdout",
     "output_type": "stream",
     "text": [
      "['fault_data_0HP_BF.txt', 'fault_data_0HP_IB.txt', 'fault_data_0HP_IF.txt', 'fault_data_0HP_IO.txt', 'fault_data_0HP_IOB.txt', 'fault_data_0HP_OB.txt', 'fault_data_0HP_OF.txt']\n"
     ]
    }
   ],
   "source": [
    "#从tex文件夹中遍历故障数据文件、设置输出路径\n",
    "for root, dirs, files in os.walk(\"./data/preprocess/txt\"):\n",
    "    print(files)\n",
    "output_path = './data/preprocess/wave_images'\n",
    "if not os.path.exists(output_path):\n",
    "    os.makedirs(output_path)"
   ]
  },
  {
   "cell_type": "code",
   "execution_count": 25,
   "metadata": {},
   "outputs": [
    {
     "name": "stdout",
     "output_type": "stream",
     "text": [
      "processing fault_data_0HP_BF.txt\n",
      "BF.txt_0\n",
      "./data/train/txt\\fault_data_0HP_BF.txt\n",
      "WARNING:tensorflow:\n",
      "The TensorFlow contrib module will not be included in TensorFlow 2.0.\n",
      "For more information, please see:\n",
      "  * https://github.com/tensorflow/community/blob/master/rfcs/20180907-contrib-sunset.md\n",
      "  * https://github.com/tensorflow/addons\n",
      "  * https://github.com/tensorflow/io (for I/O related ops)\n",
      "If you depend on functionality not listed there, please file an issue.\n",
      "\n",
      "WARNING:tensorflow:Entity <bound method Pooling2D.call of <tensorflow.python.layers.pooling.MaxPooling2D object at 0x000001F7A3A05E10>> could not be transformed and will be executed as-is. Please report this to the AutgoGraph team. When filing the bug, set the verbosity to 10 (on Linux, `export AUTOGRAPH_VERBOSITY=10`) and attach the full output. Cause: converting <bound method Pooling2D.call of <tensorflow.python.layers.pooling.MaxPooling2D object at 0x000001F7A3A05E10>>: AssertionError: Bad argument number for Name: 3, expecting 4\n",
      "WARNING: Entity <bound method Pooling2D.call of <tensorflow.python.layers.pooling.MaxPooling2D object at 0x000001F7A3A05E10>> could not be transformed and will be executed as-is. Please report this to the AutgoGraph team. When filing the bug, set the verbosity to 10 (on Linux, `export AUTOGRAPH_VERBOSITY=10`) and attach the full output. Cause: converting <bound method Pooling2D.call of <tensorflow.python.layers.pooling.MaxPooling2D object at 0x000001F7A3A05E10>>: AssertionError: Bad argument number for Name: 3, expecting 4\n",
      "WARNING:tensorflow:Entity <bound method Pooling2D.call of <tensorflow.python.layers.pooling.AveragePooling2D object at 0x000001F7A3A81B38>> could not be transformed and will be executed as-is. Please report this to the AutgoGraph team. When filing the bug, set the verbosity to 10 (on Linux, `export AUTOGRAPH_VERBOSITY=10`) and attach the full output. Cause: converting <bound method Pooling2D.call of <tensorflow.python.layers.pooling.AveragePooling2D object at 0x000001F7A3A81B38>>: AssertionError: Bad argument number for Name: 3, expecting 4\n",
      "WARNING: Entity <bound method Pooling2D.call of <tensorflow.python.layers.pooling.AveragePooling2D object at 0x000001F7A3A81B38>> could not be transformed and will be executed as-is. Please report this to the AutgoGraph team. When filing the bug, set the verbosity to 10 (on Linux, `export AUTOGRAPH_VERBOSITY=10`) and attach the full output. Cause: converting <bound method Pooling2D.call of <tensorflow.python.layers.pooling.AveragePooling2D object at 0x000001F7A3A81B38>>: AssertionError: Bad argument number for Name: 3, expecting 4\n",
      "saving ./data/train/wave_images/BF.txt_0.npy, shape (2000, 64, 64, 1)\n",
      "processing fault_data_0HP_IB.txt\n",
      "IB.txt_1\n",
      "./data/train/txt\\fault_data_0HP_IB.txt\n",
      "WARNING:tensorflow:Entity <bound method Pooling2D.call of <tensorflow.python.layers.pooling.MaxPooling2D object at 0x000001F73F73EBE0>> could not be transformed and will be executed as-is. Please report this to the AutgoGraph team. When filing the bug, set the verbosity to 10 (on Linux, `export AUTOGRAPH_VERBOSITY=10`) and attach the full output. Cause: converting <bound method Pooling2D.call of <tensorflow.python.layers.pooling.MaxPooling2D object at 0x000001F73F73EBE0>>: AssertionError: Bad argument number for Name: 3, expecting 4\n",
      "WARNING: Entity <bound method Pooling2D.call of <tensorflow.python.layers.pooling.MaxPooling2D object at 0x000001F73F73EBE0>> could not be transformed and will be executed as-is. Please report this to the AutgoGraph team. When filing the bug, set the verbosity to 10 (on Linux, `export AUTOGRAPH_VERBOSITY=10`) and attach the full output. Cause: converting <bound method Pooling2D.call of <tensorflow.python.layers.pooling.MaxPooling2D object at 0x000001F73F73EBE0>>: AssertionError: Bad argument number for Name: 3, expecting 4\n",
      "WARNING:tensorflow:Entity <bound method Pooling2D.call of <tensorflow.python.layers.pooling.AveragePooling2D object at 0x000001F7A4F5CC88>> could not be transformed and will be executed as-is. Please report this to the AutgoGraph team. When filing the bug, set the verbosity to 10 (on Linux, `export AUTOGRAPH_VERBOSITY=10`) and attach the full output. Cause: converting <bound method Pooling2D.call of <tensorflow.python.layers.pooling.AveragePooling2D object at 0x000001F7A4F5CC88>>: AssertionError: Bad argument number for Name: 3, expecting 4\n",
      "WARNING: Entity <bound method Pooling2D.call of <tensorflow.python.layers.pooling.AveragePooling2D object at 0x000001F7A4F5CC88>> could not be transformed and will be executed as-is. Please report this to the AutgoGraph team. When filing the bug, set the verbosity to 10 (on Linux, `export AUTOGRAPH_VERBOSITY=10`) and attach the full output. Cause: converting <bound method Pooling2D.call of <tensorflow.python.layers.pooling.AveragePooling2D object at 0x000001F7A4F5CC88>>: AssertionError: Bad argument number for Name: 3, expecting 4\n",
      "saving ./data/train/wave_images/IB.txt_1.npy, shape (2000, 64, 64, 1)\n",
      "processing fault_data_0HP_IF.txt\n",
      "IF.txt_2\n",
      "./data/train/txt\\fault_data_0HP_IF.txt\n",
      "WARNING:tensorflow:Entity <bound method Pooling2D.call of <tensorflow.python.layers.pooling.MaxPooling2D object at 0x000001F7A4F3B358>> could not be transformed and will be executed as-is. Please report this to the AutgoGraph team. When filing the bug, set the verbosity to 10 (on Linux, `export AUTOGRAPH_VERBOSITY=10`) and attach the full output. Cause: converting <bound method Pooling2D.call of <tensorflow.python.layers.pooling.MaxPooling2D object at 0x000001F7A4F3B358>>: AssertionError: Bad argument number for Name: 3, expecting 4\n",
      "WARNING: Entity <bound method Pooling2D.call of <tensorflow.python.layers.pooling.MaxPooling2D object at 0x000001F7A4F3B358>> could not be transformed and will be executed as-is. Please report this to the AutgoGraph team. When filing the bug, set the verbosity to 10 (on Linux, `export AUTOGRAPH_VERBOSITY=10`) and attach the full output. Cause: converting <bound method Pooling2D.call of <tensorflow.python.layers.pooling.MaxPooling2D object at 0x000001F7A4F3B358>>: AssertionError: Bad argument number for Name: 3, expecting 4\n",
      "WARNING:tensorflow:Entity <bound method Pooling2D.call of <tensorflow.python.layers.pooling.AveragePooling2D object at 0x000001F7A4F18DD8>> could not be transformed and will be executed as-is. Please report this to the AutgoGraph team. When filing the bug, set the verbosity to 10 (on Linux, `export AUTOGRAPH_VERBOSITY=10`) and attach the full output. Cause: converting <bound method Pooling2D.call of <tensorflow.python.layers.pooling.AveragePooling2D object at 0x000001F7A4F18DD8>>: AssertionError: Bad argument number for Name: 3, expecting 4\n",
      "WARNING: Entity <bound method Pooling2D.call of <tensorflow.python.layers.pooling.AveragePooling2D object at 0x000001F7A4F18DD8>> could not be transformed and will be executed as-is. Please report this to the AutgoGraph team. When filing the bug, set the verbosity to 10 (on Linux, `export AUTOGRAPH_VERBOSITY=10`) and attach the full output. Cause: converting <bound method Pooling2D.call of <tensorflow.python.layers.pooling.AveragePooling2D object at 0x000001F7A4F18DD8>>: AssertionError: Bad argument number for Name: 3, expecting 4\n",
      "saving ./data/train/wave_images/IF.txt_2.npy, shape (2000, 64, 64, 1)\n",
      "processing fault_data_0HP_IO.txt\n",
      "IO.txt_3\n",
      "./data/train/txt\\fault_data_0HP_IO.txt\n",
      "WARNING:tensorflow:Entity <bound method Pooling2D.call of <tensorflow.python.layers.pooling.MaxPooling2D object at 0x000001F7A4F83FD0>> could not be transformed and will be executed as-is. Please report this to the AutgoGraph team. When filing the bug, set the verbosity to 10 (on Linux, `export AUTOGRAPH_VERBOSITY=10`) and attach the full output. Cause: converting <bound method Pooling2D.call of <tensorflow.python.layers.pooling.MaxPooling2D object at 0x000001F7A4F83FD0>>: AssertionError: Bad argument number for Name: 3, expecting 4\n",
      "WARNING: Entity <bound method Pooling2D.call of <tensorflow.python.layers.pooling.MaxPooling2D object at 0x000001F7A4F83FD0>> could not be transformed and will be executed as-is. Please report this to the AutgoGraph team. When filing the bug, set the verbosity to 10 (on Linux, `export AUTOGRAPH_VERBOSITY=10`) and attach the full output. Cause: converting <bound method Pooling2D.call of <tensorflow.python.layers.pooling.MaxPooling2D object at 0x000001F7A4F83FD0>>: AssertionError: Bad argument number for Name: 3, expecting 4\n",
      "WARNING:tensorflow:Entity <bound method Pooling2D.call of <tensorflow.python.layers.pooling.AveragePooling2D object at 0x000001F7A4EE47B8>> could not be transformed and will be executed as-is. Please report this to the AutgoGraph team. When filing the bug, set the verbosity to 10 (on Linux, `export AUTOGRAPH_VERBOSITY=10`) and attach the full output. Cause: converting <bound method Pooling2D.call of <tensorflow.python.layers.pooling.AveragePooling2D object at 0x000001F7A4EE47B8>>: AssertionError: Bad argument number for Name: 3, expecting 4\n"
     ]
    },
    {
     "name": "stdout",
     "output_type": "stream",
     "text": [
      "WARNING: Entity <bound method Pooling2D.call of <tensorflow.python.layers.pooling.AveragePooling2D object at 0x000001F7A4EE47B8>> could not be transformed and will be executed as-is. Please report this to the AutgoGraph team. When filing the bug, set the verbosity to 10 (on Linux, `export AUTOGRAPH_VERBOSITY=10`) and attach the full output. Cause: converting <bound method Pooling2D.call of <tensorflow.python.layers.pooling.AveragePooling2D object at 0x000001F7A4EE47B8>>: AssertionError: Bad argument number for Name: 3, expecting 4\n",
      "saving ./data/train/wave_images/IO.txt_3.npy, shape (2000, 64, 64, 1)\n",
      "processing fault_data_0HP_IOB.txt\n",
      "IOB.txt_4\n",
      "./data/train/txt\\fault_data_0HP_IOB.txt\n",
      "WARNING:tensorflow:Entity <bound method Pooling2D.call of <tensorflow.python.layers.pooling.MaxPooling2D object at 0x000001F7A4F0BF60>> could not be transformed and will be executed as-is. Please report this to the AutgoGraph team. When filing the bug, set the verbosity to 10 (on Linux, `export AUTOGRAPH_VERBOSITY=10`) and attach the full output. Cause: converting <bound method Pooling2D.call of <tensorflow.python.layers.pooling.MaxPooling2D object at 0x000001F7A4F0BF60>>: AssertionError: Bad argument number for Name: 3, expecting 4\n",
      "WARNING: Entity <bound method Pooling2D.call of <tensorflow.python.layers.pooling.MaxPooling2D object at 0x000001F7A4F0BF60>> could not be transformed and will be executed as-is. Please report this to the AutgoGraph team. When filing the bug, set the verbosity to 10 (on Linux, `export AUTOGRAPH_VERBOSITY=10`) and attach the full output. Cause: converting <bound method Pooling2D.call of <tensorflow.python.layers.pooling.MaxPooling2D object at 0x000001F7A4F0BF60>>: AssertionError: Bad argument number for Name: 3, expecting 4\n",
      "WARNING:tensorflow:Entity <bound method Pooling2D.call of <tensorflow.python.layers.pooling.AveragePooling2D object at 0x000001F7A4F0B710>> could not be transformed and will be executed as-is. Please report this to the AutgoGraph team. When filing the bug, set the verbosity to 10 (on Linux, `export AUTOGRAPH_VERBOSITY=10`) and attach the full output. Cause: converting <bound method Pooling2D.call of <tensorflow.python.layers.pooling.AveragePooling2D object at 0x000001F7A4F0B710>>: AssertionError: Bad argument number for Name: 3, expecting 4\n",
      "WARNING: Entity <bound method Pooling2D.call of <tensorflow.python.layers.pooling.AveragePooling2D object at 0x000001F7A4F0B710>> could not be transformed and will be executed as-is. Please report this to the AutgoGraph team. When filing the bug, set the verbosity to 10 (on Linux, `export AUTOGRAPH_VERBOSITY=10`) and attach the full output. Cause: converting <bound method Pooling2D.call of <tensorflow.python.layers.pooling.AveragePooling2D object at 0x000001F7A4F0B710>>: AssertionError: Bad argument number for Name: 3, expecting 4\n",
      "saving ./data/train/wave_images/IOB.txt_4.npy, shape (2000, 64, 64, 1)\n",
      "processing fault_data_0HP_OF.txt\n",
      "OF.txt_5\n",
      "./data/train/txt\\fault_data_0HP_OF.txt\n",
      "WARNING:tensorflow:Entity <bound method Pooling2D.call of <tensorflow.python.layers.pooling.MaxPooling2D object at 0x000001F7A4EE4F28>> could not be transformed and will be executed as-is. Please report this to the AutgoGraph team. When filing the bug, set the verbosity to 10 (on Linux, `export AUTOGRAPH_VERBOSITY=10`) and attach the full output. Cause: converting <bound method Pooling2D.call of <tensorflow.python.layers.pooling.MaxPooling2D object at 0x000001F7A4EE4F28>>: AssertionError: Bad argument number for Name: 3, expecting 4\n",
      "WARNING: Entity <bound method Pooling2D.call of <tensorflow.python.layers.pooling.MaxPooling2D object at 0x000001F7A4EE4F28>> could not be transformed and will be executed as-is. Please report this to the AutgoGraph team. When filing the bug, set the verbosity to 10 (on Linux, `export AUTOGRAPH_VERBOSITY=10`) and attach the full output. Cause: converting <bound method Pooling2D.call of <tensorflow.python.layers.pooling.MaxPooling2D object at 0x000001F7A4EE4F28>>: AssertionError: Bad argument number for Name: 3, expecting 4\n",
      "WARNING:tensorflow:Entity <bound method Pooling2D.call of <tensorflow.python.layers.pooling.AveragePooling2D object at 0x000001F7A4F3B898>> could not be transformed and will be executed as-is. Please report this to the AutgoGraph team. When filing the bug, set the verbosity to 10 (on Linux, `export AUTOGRAPH_VERBOSITY=10`) and attach the full output. Cause: converting <bound method Pooling2D.call of <tensorflow.python.layers.pooling.AveragePooling2D object at 0x000001F7A4F3B898>>: AssertionError: Bad argument number for Name: 3, expecting 4\n",
      "WARNING: Entity <bound method Pooling2D.call of <tensorflow.python.layers.pooling.AveragePooling2D object at 0x000001F7A4F3B898>> could not be transformed and will be executed as-is. Please report this to the AutgoGraph team. When filing the bug, set the verbosity to 10 (on Linux, `export AUTOGRAPH_VERBOSITY=10`) and attach the full output. Cause: converting <bound method Pooling2D.call of <tensorflow.python.layers.pooling.AveragePooling2D object at 0x000001F7A4F3B898>>: AssertionError: Bad argument number for Name: 3, expecting 4\n",
      "saving ./data/train/wave_images/OF.txt_5.npy, shape (2000, 64, 64, 1)\n",
      "processing fault_data_0HP_OR.txt\n",
      "OR.txt_6\n",
      "./data/train/txt\\fault_data_0HP_OR.txt\n",
      "WARNING:tensorflow:Entity <bound method Pooling2D.call of <tensorflow.python.layers.pooling.MaxPooling2D object at 0x000001F7A4F8E4E0>> could not be transformed and will be executed as-is. Please report this to the AutgoGraph team. When filing the bug, set the verbosity to 10 (on Linux, `export AUTOGRAPH_VERBOSITY=10`) and attach the full output. Cause: converting <bound method Pooling2D.call of <tensorflow.python.layers.pooling.MaxPooling2D object at 0x000001F7A4F8E4E0>>: AssertionError: Bad argument number for Name: 3, expecting 4\n",
      "WARNING: Entity <bound method Pooling2D.call of <tensorflow.python.layers.pooling.MaxPooling2D object at 0x000001F7A4F8E4E0>> could not be transformed and will be executed as-is. Please report this to the AutgoGraph team. When filing the bug, set the verbosity to 10 (on Linux, `export AUTOGRAPH_VERBOSITY=10`) and attach the full output. Cause: converting <bound method Pooling2D.call of <tensorflow.python.layers.pooling.MaxPooling2D object at 0x000001F7A4F8E4E0>>: AssertionError: Bad argument number for Name: 3, expecting 4\n",
      "WARNING:tensorflow:Entity <bound method Pooling2D.call of <tensorflow.python.layers.pooling.AveragePooling2D object at 0x000001F7A4F18CF8>> could not be transformed and will be executed as-is. Please report this to the AutgoGraph team. When filing the bug, set the verbosity to 10 (on Linux, `export AUTOGRAPH_VERBOSITY=10`) and attach the full output. Cause: converting <bound method Pooling2D.call of <tensorflow.python.layers.pooling.AveragePooling2D object at 0x000001F7A4F18CF8>>: AssertionError: Bad argument number for Name: 3, expecting 4\n",
      "WARNING: Entity <bound method Pooling2D.call of <tensorflow.python.layers.pooling.AveragePooling2D object at 0x000001F7A4F18CF8>> could not be transformed and will be executed as-is. Please report this to the AutgoGraph team. When filing the bug, set the verbosity to 10 (on Linux, `export AUTOGRAPH_VERBOSITY=10`) and attach the full output. Cause: converting <bound method Pooling2D.call of <tensorflow.python.layers.pooling.AveragePooling2D object at 0x000001F7A4F18CF8>>: AssertionError: Bad argument number for Name: 3, expecting 4\n",
      "saving ./data/train/wave_images/OR.txt_6.npy, shape (2000, 64, 64, 1)\n"
     ]
    }
   ],
   "source": [
    "#枚举files、对数据进行小波变换处理\n",
    "for i, file in enumerate(files):\n",
    "    print(\"processing %s\" % file)\n",
    "    c = file.split('_')[0] if \"normal\" in file else file.split('_')[3]\n",
    "    label = \"{}_{}\".format(c, i)\n",
    "    print(label)\n",
    "    file_path = os.path.join(root, file) # 路径拼接：根目录+file路径\n",
    "    print(file_path)\n",
    "    signal = get_batch(filename=file_path, batch_size=2000) # 未指定窗口大小和步长即为默认值\n",
    "    batch_image = batch2image(signal, sampling_rate=1, pooling_size=4)\n",
    "    print(\"saving %s/%s.npy, shape %s\" % (output_path, label, batch_image.shape))\n",
    "    np.save(\"%s/%s.npy\" % (output_path, label), batch_image)"
   ]
  },
  {
   "cell_type": "code",
   "execution_count": 54,
   "metadata": {},
   "outputs": [],
   "source": [
    "#载入7种故障类型的数据集\n",
    "\n",
    "#训练数据集\n",
    "IF=np.load(\"./data/preprocess/wave_images/IF.txt_2.npy\")\n",
    "OF=np.load(\"./data/preprocess/wave_images/OF.txt_5.npy\")\n",
    "BF=np.load(\"./data/preprocess/wave_images/BF.txt_0.npy\")\n",
    "#测试数据集\n",
    "IB=np.load(\"./data/preprocess/wave_images/IB.txt_1.npy\")\n",
    "IO=np.load(\"./data/preprocess/wave_images/IO.txt_3.npy\")\n",
    "OB=np.load(\"./data/preprocess/wave_images/OB.txt_6.npy\")\n",
    "IOB=np.load(\"./data/preprocess/wave_images/IOB.txt_4.npy\")"
   ]
  },
  {
   "cell_type": "code",
   "execution_count": 55,
   "metadata": {},
   "outputs": [
    {
     "name": "stdout",
     "output_type": "stream",
     "text": [
      "内圈：\n"
     ]
    },
    {
     "data": {
      "image/png": "[encoded data removed]",
      "text/plain": [
       "<Figure size 432x288 with 1 Axes>"
      ]
     },
     "metadata": {},
     "output_type": "display_data"
    },
    {
     "name": "stdout",
     "output_type": "stream",
     "text": [
      "外圈：\n"
     ]
    },
    {
     "data": {
      "image/png": "[encoded data removed]",
      "text/plain": [
       "<Figure size 432x288 with 1 Axes>"
      ]
     },
     "metadata": {},
     "output_type": "display_data"
    },
    {
     "name": "stdout",
     "output_type": "stream",
     "text": [
      "滚子：\n"
     ]
    },
    {
     "data": {
      "image/png": "[encoded data removed]",
      "text/plain": [
       "<Figure size 432x288 with 1 Axes>"
      ]
     },
     "metadata": {},
     "output_type": "display_data"
    },
    {
     "name": "stdout",
     "output_type": "stream",
     "text": [
      "内外圈：\n"
     ]
    },
    {
     "data": {
      "image/png": "[encoded data removed]",
      "text/plain": [
       "<Figure size 432x288 with 1 Axes>"
      ]
     },
     "metadata": {},
     "output_type": "display_data"
    },
    {
     "name": "stdout",
     "output_type": "stream",
     "text": [
      "内圈滚子：\n"
     ]
    },
    {
     "data": {
      "image/png": "[encoded data removed]",
      "text/plain": [
       "<Figure size 432x288 with 1 Axes>"
      ]
     },
     "metadata": {},
     "output_type": "display_data"
    },
    {
     "name": "stdout",
     "output_type": "stream",
     "text": [
      "外圈滚子：\n"
     ]
    },
    {
     "data": {
      "image/png": "[encoded data removed]",
      "text/plain": [
       "<Figure size 432x288 with 1 Axes>"
      ]
     },
     "metadata": {},
     "output_type": "display_data"
    },
    {
     "name": "stdout",
     "output_type": "stream",
     "text": [
      "内外滚：\n"
     ]
    },
    {
     "data": {
      "image/png": "[encoded data removed]",
      "text/plain": [
       "<Figure size 432x288 with 1 Axes>"
      ]
     },
     "metadata": {},
     "output_type": "display_data"
    }
   ],
   "source": [
    "#I-内圈 O-外圈 B-滚子\n",
    "\n",
    "import matplotlib.pyplot as pyplot \n",
    "#内圈\n",
    "print(\"内圈：\")\n",
    "plt.imshow(IF[0], cmap = plt.get_cmap('gray'))\n",
    "plt.show()\n",
    "#外圈\n",
    "print(\"外圈：\")\n",
    "plt.imshow(OF[0], cmap = plt.get_cmap('gray'))\n",
    "plt.show()\n",
    "#滚子\n",
    "print(\"滚子：\")\n",
    "plt.imshow(BF[0], cmap = plt.get_cmap('gray'))\n",
    "plt.show()\n",
    "#内外圈\n",
    "print(\"内外圈：\")\n",
    "plt.imshow(IO[0], cmap = plt.get_cmap('gray'))\n",
    "plt.show()\n",
    "#内圈滚子\n",
    "print(\"内圈滚子：\")\n",
    "plt.imshow(IB[0], cmap = plt.get_cmap('gray'))\n",
    "plt.show()\n",
    "#外圈滚子\n",
    "print(\"外圈滚子：\")\n",
    "plt.imshow(OB[0], cmap = plt.get_cmap('gray'))\n",
    "plt.show()\n",
    "#内外滚\n",
    "print(\"内外滚：\")\n",
    "plt.imshow(IOB[0], cmap = plt.get_cmap('gray'))\n",
    "plt.show()\n"
   ]
  },
  {
   "cell_type": "code",
   "execution_count": 69,
   "metadata": {},
   "outputs": [],
   "source": [
    "import scipy.io\n",
    "import numpy as np\n",
    "import keras\n",
    "import matplotlib.pyplot as plt\n",
    "%matplotlib inline\n",
    "from keras.utils import plot_model\n",
    "from keras.utils import np_utils"
   ]
  },
  {
   "cell_type": "code",
   "execution_count": 70,
   "metadata": {},
   "outputs": [],
   "source": [
    "# 创建训练数据集\n",
    "def creat_train_dataset(select):\n",
    "    x_all = []\n",
    "    y_all = []\n",
    "    for elem in select:\n",
    "        print(elem[0])\n",
    "#        sig = df[elem[0]]\n",
    "      #  print(len(sig))\n",
    "        if elem[1] == 0:\n",
    "            sig =np.load(\"./data/preprocess/wave_images/IF.txt_2.npy\")\n",
    "        elif elem[1] == 1:\n",
    "            sig =np.load(\"./data/preprocess/wave_images/OF.txt_5.npy\")\n",
    "        else:\n",
    "            sig =np.load(\"./data/preprocess/wave_images/BF.txt_0.npy\")\n",
    "      #  i = i+1   \n",
    "        x = sig\n",
    "        label = elem[1]\n",
    "\n",
    "        print(x.shape)\n",
    "      #  print(x.shape[0])\n",
    "        x_all.append(x)\n",
    "        y = [[label] for _ in range(x.shape[0])]\n",
    "        y_all.append(y)\n",
    "    x_merge = np.vstack(x_all)\n",
    "    y_merge = np.vstack(y_all)\n",
    "#     print(x_all)\n",
    "#     print(x_merge)\n",
    "#     print(y_all)\n",
    "#     print(y_merge)\n",
    "    return x_merge, y_merge"
   ]
  },
  {
   "cell_type": "code",
   "execution_count": 73,
   "metadata": {},
   "outputs": [],
   "source": [
    "# 创建测试数据集\n",
    "def creat_test_dataset(select):\n",
    "    x_all = []\n",
    "    y_all = []\n",
    "    i=0\n",
    "    for elem in select:\n",
    "        print(elem[0])\n",
    "#        sig = df[elem[0]]\n",
    "      #  print(len(sig))\n",
    "        if elem[1] == 0:\n",
    "            sig =np.load(\"./data/preprocess/wave_images/IO.txt_3.npy\")\n",
    "        elif elem[1] == 1:\n",
    "            sig =np.load(\"./data/preprocess/wave_images/IB.txt_1.npy\")\n",
    "        \n",
    "        elif elem[1] == 2:\n",
    "            sig =np.load(\"./data/preprocess/wave_images/OB.txt_6.npy\")\n",
    "        else:\n",
    "            sig =np.load(\"./data/preprocess/wave_images/IOB.txt_4.npy\")\n",
    "      #  i = i+1   \n",
    "        label = elem[1]\n",
    "        x = sig\n",
    "        print(x.shape)\n",
    "      #  print(x.shape[0])\n",
    "        x_all.append(x)\n",
    "        y = [[label] for _ in range(x.shape[0])]\n",
    "        y_all.append(y)\n",
    "    x_merge = np.vstack(x_all)\n",
    "    y_merge = np.vstack(y_all)\n",
    "#     print(x_all)\n",
    "#     print(x_merge)\n",
    "#     print(y_all)\n",
    "#     print(y_merge)\n",
    "    return x_merge, y_merge"
   ]
  },
  {
   "cell_type": "code",
   "execution_count": 74,
   "metadata": {},
   "outputs": [],
   "source": [
    "data_train = [('IF',0), ('OF', 1), ('BF', 2)]\n",
    "data_test  = [('IO',0), ('IB', 1), ('OB', 2),('IOB', 3)]"
   ]
  },
  {
   "cell_type": "code",
   "execution_count": 75,
   "metadata": {},
   "outputs": [
    {
     "name": "stdout",
     "output_type": "stream",
     "text": [
      "IF\n",
      "(2000, 64, 64, 1)\n",
      "OF\n",
      "(2000, 64, 64, 1)\n",
      "BF\n",
      "(2000, 64, 64, 1)\n",
      "IO\n",
      "(2000, 64, 64, 1)\n",
      "IB\n",
      "(2000, 64, 64, 1)\n",
      "OB\n",
      "(2000, 64, 64, 1)\n",
      "IOB\n",
      "(2000, 64, 64, 1)\n"
     ]
    }
   ],
   "source": [
    "x_train, y_train = creat_train_dataset(select=data_train)\n",
    "x_test, y_test = creat_test_dataset(select=data_test)"
   ]
  },
  {
   "cell_type": "code",
   "execution_count": 76,
   "metadata": {},
   "outputs": [
    {
     "name": "stdout",
     "output_type": "stream",
     "text": [
      "(6000, 64, 64, 1)\n",
      "(6000, 1)\n",
      "(8000, 64, 64, 1)\n",
      "(8000, 1)\n"
     ]
    }
   ],
   "source": [
    "print(x_train.shape)\n",
    "print(y_train.shape)\n",
    "print(x_test.shape)\n",
    "print(y_test.shape)"
   ]
  },
  {
   "cell_type": "code",
   "execution_count": 79,
   "metadata": {},
   "outputs": [
    {
     "name": "stdout",
     "output_type": "stream",
     "text": [
      "(6000, 3)\n"
     ]
    }
   ],
   "source": [
    "y_train1 = keras.utils.to_categorical(y_train, num_classes=3)\n",
    "print(y_train1.shape)"
   ]
  },
  {
   "cell_type": "code",
   "execution_count": 78,
   "metadata": {},
   "outputs": [],
   "source": [
    "np.save('./data/train/x_trian', x_train)\n",
    "np.save('./data/train/y_train', y_train)\n",
    "np.save('./data/test/x_test', x_test)\n",
    "np.save('./data/test/y_test', y_test)"
   ]
  },
  {
   "cell_type": "code",
   "execution_count": null,
   "metadata": {},
   "outputs": [],
   "source": []
  }
 ],
 "metadata": {
  "kernelspec": {
   "display_name": "tensorflow",
   "language": "python",
   "name": "tensorflow"
  },
  "language_info": {
   "codemirror_mode": {
    "name": "ipython",
    "version": 3
   },
   "file_extension": ".py",
   "mimetype": "text/x-python",
   "name": "python",
   "nbconvert_exporter": "python",
   "pygments_lexer": "ipython3",
   "version": "3.6.10"
  }
 },
 "nbformat": 4,
 "nbformat_minor": 4
}
