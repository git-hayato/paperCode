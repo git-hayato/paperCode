{
 "cells": [
  {
   "cell_type": "code",
   "execution_count": 1,
   "metadata": {},
   "outputs": [],
   "source": [
    "# 将小波变换得到的图像通过CNN提取特征，保存全连接层的2048维视觉向量"
   ]
  },
  {
   "cell_type": "code",
   "execution_count": 2,
   "metadata": {},
   "outputs": [
    {
     "name": "stderr",
     "output_type": "stream",
     "text": [
      "Using TensorFlow backend.\n"
     ]
    }
   ],
   "source": [
    "import tensorflow as tf\n",
    "import h5py\n",
    "import sys\n",
    "import random\n",
    "import re\n",
    "import matplotlib.pyplot as plt\n",
    "import numpy as np\n",
    "import os\n",
    "import operator\n",
    "\n",
    "from numpy import *  \n",
    "from keras.utils import np_utils\n",
    "from keras.models import Sequential\n",
    "from keras.layers import Dense,Dropout,Convolution2D,MaxPooling2D,Flatten\n",
    "from keras.optimizers import Adam,SGD\n",
    "from keras.models import load_model,Model\n",
    "from sklearn import manifold\n",
    "from sklearn.cluster import KMeans"
   ]
  },
  {
   "cell_type": "code",
   "execution_count": 3,
   "metadata": {},
   "outputs": [
    {
     "name": "stdout",
     "output_type": "stream",
     "text": [
      "当前工作目录：\n",
      "D:\\Code\\jupyter_notebook\\TensorFlow\\2021.5.7\n"
     ]
    }
   ],
   "source": [
    "# 载入数据\n",
    "print('当前工作目录：')\n",
    "print(os.getcwd())\n",
    "\n",
    "x_train = np.load(r\".\\data\\train\\x_train.npy\")\n",
    "y_train = np.load(r\".\\data\\train\\y_train.npy\")\n",
    "x_test = np.load(r\".\\data\\test\\x_test.npy\")\n",
    "y_test = np.load(r\".\\data\\test\\y_test.npy\")"
   ]
  },
  {
   "cell_type": "code",
   "execution_count": 4,
   "metadata": {},
   "outputs": [],
   "source": [
    "# 训练集处理\n",
    "x_train = x_train.reshape(-1,64,64,1)/255.0\n",
    "# 换one hot格式\n",
    "y_train = np_utils.to_categorical(y_train,num_classes=3)"
   ]
  },
  {
   "cell_type": "code",
   "execution_count": 5,
   "metadata": {},
   "outputs": [],
   "source": [
    "# 测试集处理\n",
    "x_test = x_test.reshape(-1,64,64,1)/255.0\n",
    "# 换one hot格式\n",
    "y_test = np_utils.to_categorical(y_test,num_classes=4)"
   ]
  },
  {
   "cell_type": "code",
   "execution_count": 6,
   "metadata": {},
   "outputs": [
    {
     "name": "stdout",
     "output_type": "stream",
     "text": [
      "(6000, 64, 64, 1)\n",
      "(6000, 3)\n",
      "(8000, 64, 64, 1)\n",
      "(8000, 4)\n"
     ]
    }
   ],
   "source": [
    "print(x_train.shape)\n",
    "print(y_train.shape)\n",
    "print(x_test.shape)\n",
    "print(y_test.shape)"
   ]
  },
  {
   "cell_type": "code",
   "execution_count": 7,
   "metadata": {},
   "outputs": [],
   "source": [
    "# 定义CNN网络模型获取可见类2048维特征"
   ]
  },
  {
   "cell_type": "code",
   "execution_count": null,
   "metadata": {},
   "outputs": [
    {
     "name": "stdout",
     "output_type": "stream",
     "text": [
      "WARNING:tensorflow:From E:\\anaconda\\envs\\tensorflow\\lib\\site-packages\\keras\\backend\\tensorflow_backend.py:66: The name tf.get_default_graph is deprecated. Please use tf.compat.v1.get_default_graph instead.\n",
      "\n",
      "WARNING:tensorflow:From E:\\anaconda\\envs\\tensorflow\\lib\\site-packages\\keras\\backend\\tensorflow_backend.py:541: The name tf.placeholder is deprecated. Please use tf.compat.v1.placeholder instead.\n",
      "\n",
      "WARNING:tensorflow:From E:\\anaconda\\envs\\tensorflow\\lib\\site-packages\\keras\\backend\\tensorflow_backend.py:4432: The name tf.random_uniform is deprecated. Please use tf.random.uniform instead.\n",
      "\n",
      "WARNING:tensorflow:From E:\\anaconda\\envs\\tensorflow\\lib\\site-packages\\keras\\backend\\tensorflow_backend.py:4267: The name tf.nn.max_pool is deprecated. Please use tf.nn.max_pool2d instead.\n",
      "\n",
      "WARNING:tensorflow:From E:\\anaconda\\envs\\tensorflow\\lib\\site-packages\\keras\\backend\\tensorflow_backend.py:148: The name tf.placeholder_with_default is deprecated. Please use tf.compat.v1.placeholder_with_default instead.\n",
      "\n",
      "WARNING:tensorflow:From E:\\anaconda\\envs\\tensorflow\\lib\\site-packages\\keras\\backend\\tensorflow_backend.py:3733: calling dropout (from tensorflow.python.ops.nn_ops) with keep_prob is deprecated and will be removed in a future version.\n",
      "Instructions for updating:\n",
      "Please use `rate` instead of `keep_prob`. Rate should be set to `rate = 1 - keep_prob`.\n",
      "WARNING:tensorflow:From E:\\anaconda\\envs\\tensorflow\\lib\\site-packages\\keras\\optimizers.py:793: The name tf.train.Optimizer is deprecated. Please use tf.compat.v1.train.Optimizer instead.\n",
      "\n",
      "WARNING:tensorflow:From E:\\anaconda\\envs\\tensorflow\\lib\\site-packages\\keras\\backend\\tensorflow_backend.py:3576: The name tf.log is deprecated. Please use tf.math.log instead.\n",
      "\n",
      "WARNING:tensorflow:From E:\\anaconda\\envs\\tensorflow\\lib\\site-packages\\tensorflow\\python\\ops\\math_grad.py:1250: add_dispatch_support.<locals>.wrapper (from tensorflow.python.ops.array_ops) is deprecated and will be removed in a future version.\n",
      "Instructions for updating:\n",
      "Use tf.where in 2.0, which has the same broadcast rule as np.where\n",
      "Epoch 1/25\n",
      "6000/6000 [==============================] - 9s 1ms/step - loss: 0.3951 - categorical_accuracy: 0.8277\n",
      "Epoch 2/25\n",
      "6000/6000 [==============================] - 6s 923us/step - loss: 9.1226e-04 - categorical_accuracy: 0.9998\n",
      "Epoch 3/25\n",
      "6000/6000 [==============================] - 6s 924us/step - loss: 1.5827e-04 - categorical_accuracy: 1.0000\n",
      "Epoch 4/25\n",
      "6000/6000 [==============================] - 6s 920us/step - loss: 1.0888e-04 - categorical_accuracy: 1.0000\n",
      "Epoch 5/25\n",
      "6000/6000 [==============================] - 6s 925us/step - loss: 8.3971e-05 - categorical_accuracy: 1.0000\n",
      "Epoch 6/25\n",
      "6000/6000 [==============================] - 5s 899us/step - loss: 6.2000e-05 - categorical_accuracy: 1.0000\n",
      "Epoch 7/25\n",
      "6000/6000 [==============================] - 5s 904us/step - loss: 4.9158e-05 - categorical_accuracy: 1.0000\n",
      "Epoch 8/25\n",
      "6000/6000 [==============================] - 5s 896us/step - loss: 4.0369e-05 - categorical_accuracy: 1.0000\n",
      "Epoch 9/25\n",
      "6000/6000 [==============================] - 5s 896us/step - loss: 3.7046e-05 - categorical_accuracy: 1.0000\n",
      "Epoch 10/25\n",
      "6000/6000 [==============================] - 5s 897us/step - loss: 3.1961e-05 - categorical_accuracy: 1.0000\n",
      "Epoch 11/25\n",
      "6000/6000 [==============================] - 5s 895us/step - loss: 2.5168e-05 - categorical_accuracy: 1.0000\n",
      "Epoch 12/25\n",
      "6000/6000 [==============================] - 5s 896us/step - loss: 2.3299e-05 - categorical_accuracy: 1.0000\n",
      "Epoch 13/25\n",
      "6000/6000 [==============================] - 5s 899us/step - loss: 2.0548e-05 - categorical_accuracy: 1.0000\n",
      "Epoch 14/25\n",
      "5500/6000 [==========================>...] - ETA: 0s - loss: 1.6563e-05 - categorical_accuracy: 1.0000"
     ]
    }
   ],
   "source": [
    "model = Sequential()\n",
    "\n",
    "#卷积层1（input_shape：（长*宽*通道数） filter：卷积核个数  kernel_size 卷积窗口大小  strides 步长 padding padding方式 same/valid activation 激活函数）\n",
    "model.add(Convolution2D(\n",
    "    input_shape = (64,64,1),\n",
    "    filters = 32,\n",
    "    kernel_size = 5,\n",
    "    strides = 1,\n",
    "    padding = 'same',\n",
    "    activation = 'relu',\n",
    "))\n",
    "\n",
    "#池化层1\n",
    "model.add(MaxPooling2D(\n",
    "    pool_size = 2,\n",
    "    strides = 2,\n",
    "    padding = 'same',\n",
    "))\n",
    "\n",
    "# 卷积层2\n",
    "model.add(Convolution2D(filters=64,\n",
    "                        kernel_size=5,\n",
    "                        strides=1,\n",
    "                        padding='same',\n",
    "                        activation='relu'))\n",
    "\n",
    "# 池化层2\n",
    "model.add(MaxPooling2D(\n",
    "    pool_size = 2,\n",
    "    strides = 2,\n",
    "    padding = 'same',\n",
    "))\n",
    "\n",
    "# 把池化层2的输出output展开为1维\n",
    "model.add(Flatten())\n",
    "\n",
    "# 第一个全连接层\n",
    "model.add(Dense(4096,activation='relu'))\n",
    "# model.add(Dense(2048,activation='relu'))\n",
    "model.add(Dense(2048,activation='relu'))\n",
    "\n",
    "# Dropout\n",
    "model.add(Dropout(0.25))\n",
    "\n",
    "# 第二个全连接层\n",
    "model.add(Dense(3,activation='softmax'))\n",
    "\n",
    "# 定义优化器\n",
    "adam = Adam(lr=1e-4)\n",
    "\n",
    "# 定义优化器,loss function,训练过程中计算准确率\n",
    "model.compile(optimizer=adam,loss='categorical_crossentropy',metrics=['categorical_accuracy'])\n",
    "\n",
    "# 训练模型\n",
    "model.fit(x_train,y_train,batch_size=100,epochs=25)\n",
    "\n",
    "# 评估模型\n",
    "loss,accuracy = model.evaluate(x_train,y_train)\n",
    "\n",
    "\n",
    "#保存模型\n",
    "model.save('model.h5')\n",
    "print(model.summary())\n",
    "print('train loss',loss)\n",
    "print('train accuracy',accuracy)"
   ]
  },
  {
   "cell_type": "code",
   "execution_count": 9,
   "metadata": {},
   "outputs": [],
   "source": [
    "# 载入训练好的模型\n",
    "\n",
    "model = load_model('model.h5')\n",
    "\n",
    "\n",
    "\n",
    "# 获取最后一个全连接层的输出\n",
    "intermediate_layer_model = Model(inputs=model.input,outputs=model.get_layer(str('dense_1')).output)"
   ]
  },
  {
   "cell_type": "code",
   "execution_count": 10,
   "metadata": {},
   "outputs": [
    {
     "name": "stdout",
     "output_type": "stream",
     "text": [
      "(6000, 2048)\n"
     ]
    }
   ],
   "source": [
    "x_train = np.load(r\".\\data\\train\\x_train.npy\")\n",
    "x_train = x_train.reshape(-1,64,64,1)/255.0\n",
    "x_train_2048 = intermediate_layer_model.predict(x_train)\n",
    "print(x_train_2048.shape)"
   ]
  },
  {
   "cell_type": "code",
   "execution_count": 11,
   "metadata": {},
   "outputs": [],
   "source": [
    "# #单一故障分布\n",
    "# X_seen = x_train_2048\n",
    "# Y_seen = np.load('./data/train/y_train.npy')\n",
    "# n_samples, n_features = X_seen.shape\n",
    "\n",
    "# '''t-SNE'''\n",
    "# tsne = manifold.TSNE(n_components=2, init='pca', random_state=501)\n",
    "# X_tsne = tsne.fit_transform(X_seen)\n",
    "\n",
    "# print(\"Org data dimension is {}.  Embedded data dimension is {}\".format(X_seen.shape[-1], X_tsne.shape[-1]))\n",
    "\n",
    "# '''嵌入空间可视化'''\n",
    "# x_min, x_max = X_tsne.min(0), X_tsne.max(0)\n",
    "# X_norm = (X_tsne - x_min) / (x_max - x_min)  # 归一化\n",
    "# plt.figure(figsize=(8, 8))\n",
    "# for i in range(X_norm.shape[0]):\n",
    "#     plt.text(X_norm[i, 0], X_norm[i, 1], str(Y_seen[i]), color=plt.cm.Set1(Y_seen[i][0]),fontdict={'weight': 'bold', 'size': 9})\n",
    "# plt.xticks([])\n",
    "# plt.yticks([])\n",
    "# plt.show()"
   ]
  },
  {
   "cell_type": "code",
   "execution_count": 12,
   "metadata": {},
   "outputs": [
    {
     "name": "stdout",
     "output_type": "stream",
     "text": [
      "(6000, 3)\n"
     ]
    }
   ],
   "source": [
    "y_train = np.load(r\".\\data\\train\\y_train.npy\")\n",
    "y_train_oh = np_utils.to_categorical(y_train,num_classes=3)\n",
    "print(y_train_oh.shape)"
   ]
  },
  {
   "cell_type": "code",
   "execution_count": 13,
   "metadata": {},
   "outputs": [
    {
     "name": "stdout",
     "output_type": "stream",
     "text": [
      "(8000, 2048)\n"
     ]
    }
   ],
   "source": [
    "x_test = np.load(r\".\\data\\test\\x_test.npy\")\n",
    "x_test = x_test.reshape(-1,64,64,1)/255.0\n",
    "x_test_2048 = intermediate_layer_model.predict(x_test)\n",
    "print(x_test_2048.shape)"
   ]
  },
  {
   "cell_type": "code",
   "execution_count": 14,
   "metadata": {},
   "outputs": [],
   "source": [
    "# #复合故障分布\n",
    "# X_unseen = x_test_2048\n",
    "# Y_unseen = np.load('./data/test/y_test.npy')\n",
    "# n_samples, n_features = X_unseen.shape\n",
    "\n",
    "# '''t-SNE'''\n",
    "# tsne = manifold.TSNE(n_components=2, init='pca', random_state=501)\n",
    "# X_tsne = tsne.fit_transform(X_unseen)\n",
    "\n",
    "# print(\"Org data dimension is {}.  Embedded data dimension is {}\".format(X_unseen.shape[-1], X_tsne.shape[-1]))\n",
    "\n",
    "# '''嵌入空间可视化'''\n",
    "# x_min, x_max = X_tsne.min(0), X_tsne.max(0)\n",
    "# X_norm = (X_tsne - x_min) / (x_max - x_min)  # 归一化\n",
    "# plt.figure(figsize=(8, 8))\n",
    "# for i in range(X_norm.shape[0]):\n",
    "#     plt.text(X_norm[i, 0], X_norm[i, 1], str(Y_unseen[i]), color=plt.cm.Set1(Y_unseen[i][0]),fontdict={'weight': 'bold', 'size': 9})\n",
    "# plt.xticks([])\n",
    "# plt.yticks([])\n",
    "# plt.show()"
   ]
  },
  {
   "cell_type": "code",
   "execution_count": 15,
   "metadata": {},
   "outputs": [
    {
     "name": "stdout",
     "output_type": "stream",
     "text": [
      "(8000, 4)\n"
     ]
    }
   ],
   "source": [
    "y_test = np.load(r\".\\data\\test\\y_test.npy\")\n",
    "y_test_oh = np_utils.to_categorical(y_test,num_classes=4)\n",
    "print(y_test_oh.shape)"
   ]
  },
  {
   "cell_type": "code",
   "execution_count": 16,
   "metadata": {},
   "outputs": [],
   "source": [
    "np.save('./data/train/x_train_2048', x_train_2048)\n",
    "np.save('./data/train/y_train_oh', y_train_oh)\n",
    "np.save('./data/test/x_test_2048', x_test_2048)\n",
    "np.save('./data/test/y_test_oh', y_test_oh)"
   ]
  },
  {
   "cell_type": "code",
   "execution_count": 17,
   "metadata": {},
   "outputs": [
    {
     "name": "stdout",
     "output_type": "stream",
     "text": [
      "(6000, 2048)\n",
      "(6000, 3)\n",
      "(8000, 2048)\n",
      "(8000, 4)\n"
     ]
    }
   ],
   "source": [
    "print(x_train_2048.shape)\n",
    "print(y_train_oh.shape)\n",
    "print(x_test_2048.shape)\n",
    "print(y_test_oh.shape)"
   ]
  },
  {
   "cell_type": "code",
   "execution_count": null,
   "metadata": {},
   "outputs": [],
   "source": [
    "# ----------------------数据预处理已完成 -----------------------------#"
   ]
  }
 ],
 "metadata": {
  "kernelspec": {
   "display_name": "tensorflow",
   "language": "python",
   "name": "tensorflow"
  },
  "language_info": {
   "codemirror_mode": {
    "name": "ipython",
    "version": 3
   },
   "file_extension": ".py",
   "mimetype": "text/x-python",
   "name": "python",
   "nbconvert_exporter": "python",
   "pygments_lexer": "ipython3",
   "version": "3.6.10"
  }
 },
 "nbformat": 4,
 "nbformat_minor": 4
}
